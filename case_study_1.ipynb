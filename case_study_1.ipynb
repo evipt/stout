{
 "cells": [
  {
   "attachments": {},
   "cell_type": "markdown",
   "metadata": {},
   "source": [
    "## Case Study 1 "
   ]
  },
  {
   "attachments": {},
   "cell_type": "markdown",
   "metadata": {},
   "source": [
    "Below is a data set that represents thousands of loans made through the Lending Club platform, which is\n",
    "a platform that allows individuals to lend to other individuals.\n",
    "We would like you to perform the following using the language of your choice:\n",
    "\n",
    "- Describe the dataset and any issues with it.\n",
    "- Generate a minimum of 5 unique visualizations using the data and write a brief description of\n",
    "your observations. Additionally, all attempts should be made to make the visualizations visually\n",
    "appealing\n",
    "- Create a feature set and create a model which predicts interest_rate using at least 2 algorithms.\n",
    "Describe any data cleansing that must be performed and analysis when examining the data.\n",
    "- Visualize the test results and propose enhancements to the model, what would you do if you\n",
    "had more time. Also describe assumptions you made and your approach."
   ]
  },
  {
   "attachments": {},
   "cell_type": "markdown",
   "metadata": {},
   "source": [
    "Disclaimer: Someone who is a essentially a sure bet to pay back a loan will have an easier time getting a loan with a low interest rate than someone who appears to be riskier. And for people who are very risky? They may not even get a loan offer, or they may not have accepted the loan offer due to a high interest rate. It is important to keep that last part in mind, since this data set only represents loans actually made, i.e. do not mistake this data for loan applications!"
   ]
  },
  {
   "attachments": {},
   "cell_type": "markdown",
   "metadata": {},
   "source": [
    "### Import the required libraries"
   ]
  },
  {
   "cell_type": "code",
   "execution_count": 1,
   "metadata": {},
   "outputs": [],
   "source": [
    "import pandas as pd \n",
    "import numpy as np\n",
    "import matplotlib.pyplot as plt\n",
    "import utils"
   ]
  },
  {
   "cell_type": "code",
   "execution_count": 2,
   "metadata": {},
   "outputs": [],
   "source": [
    "from sklearn.linear_model import SGDRegressor\n",
    "from sklearn.preprocessing import StandardScaler\n",
    "from sklearn import preprocessing\n",
    "from sklearn.model_selection import train_test_split\n",
    "from sklearn.linear_model import LinearRegression, RidgeCV\n",
    "from sklearn.metrics import mean_squared_error\n",
    "from sklearn.model_selection import train_test_split\n"
   ]
  },
  {
   "attachments": {},
   "cell_type": "markdown",
   "metadata": {},
   "source": [
    "### Loading the data"
   ]
  },
  {
   "cell_type": "code",
   "execution_count": 70,
   "metadata": {},
   "outputs": [],
   "source": [
    "loans_full_schema = pd.read_csv('loans_full_schema.csv')"
   ]
  },
  {
   "cell_type": "code",
   "execution_count": 71,
   "metadata": {},
   "outputs": [
    {
     "data": {
      "text/plain": [
       "(10000, 55)"
      ]
     },
     "execution_count": 71,
     "metadata": {},
     "output_type": "execute_result"
    }
   ],
   "source": [
    "loans_full_schema.shape"
   ]
  },
  {
   "cell_type": "code",
   "execution_count": 72,
   "metadata": {},
   "outputs": [
    {
     "name": "stdout",
     "output_type": "stream",
     "text": [
      "<class 'pandas.core.frame.DataFrame'>\n",
      "RangeIndex: 10000 entries, 0 to 9999\n",
      "Data columns (total 55 columns):\n",
      " #   Column                            Non-Null Count  Dtype  \n",
      "---  ------                            --------------  -----  \n",
      " 0   emp_title                         9167 non-null   object \n",
      " 1   emp_length                        9183 non-null   float64\n",
      " 2   state                             10000 non-null  object \n",
      " 3   homeownership                     10000 non-null  object \n",
      " 4   annual_income                     10000 non-null  float64\n",
      " 5   verified_income                   10000 non-null  object \n",
      " 6   debt_to_income                    9976 non-null   float64\n",
      " 7   annual_income_joint               1495 non-null   float64\n",
      " 8   verification_income_joint         1455 non-null   object \n",
      " 9   debt_to_income_joint              1495 non-null   float64\n",
      " 10  delinq_2y                         10000 non-null  int64  \n",
      " 11  months_since_last_delinq          4342 non-null   float64\n",
      " 12  earliest_credit_line              10000 non-null  int64  \n",
      " 13  inquiries_last_12m                10000 non-null  int64  \n",
      " 14  total_credit_lines                10000 non-null  int64  \n",
      " 15  open_credit_lines                 10000 non-null  int64  \n",
      " 16  total_credit_limit                10000 non-null  int64  \n",
      " 17  total_credit_utilized             10000 non-null  int64  \n",
      " 18  num_collections_last_12m          10000 non-null  int64  \n",
      " 19  num_historical_failed_to_pay      10000 non-null  int64  \n",
      " 20  months_since_90d_late             2285 non-null   float64\n",
      " 21  current_accounts_delinq           10000 non-null  int64  \n",
      " 22  total_collection_amount_ever      10000 non-null  int64  \n",
      " 23  current_installment_accounts      10000 non-null  int64  \n",
      " 24  accounts_opened_24m               10000 non-null  int64  \n",
      " 25  months_since_last_credit_inquiry  8729 non-null   float64\n",
      " 26  num_satisfactory_accounts         10000 non-null  int64  \n",
      " 27  num_accounts_120d_past_due        9682 non-null   float64\n",
      " 28  num_accounts_30d_past_due         10000 non-null  int64  \n",
      " 29  num_active_debit_accounts         10000 non-null  int64  \n",
      " 30  total_debit_limit                 10000 non-null  int64  \n",
      " 31  num_total_cc_accounts             10000 non-null  int64  \n",
      " 32  num_open_cc_accounts              10000 non-null  int64  \n",
      " 33  num_cc_carrying_balance           10000 non-null  int64  \n",
      " 34  num_mort_accounts                 10000 non-null  int64  \n",
      " 35  account_never_delinq_percent      10000 non-null  float64\n",
      " 36  tax_liens                         10000 non-null  int64  \n",
      " 37  public_record_bankrupt            10000 non-null  int64  \n",
      " 38  loan_purpose                      10000 non-null  object \n",
      " 39  application_type                  10000 non-null  object \n",
      " 40  loan_amount                       10000 non-null  int64  \n",
      " 41  term                              10000 non-null  int64  \n",
      " 42  interest_rate                     10000 non-null  float64\n",
      " 43  installment                       10000 non-null  float64\n",
      " 44  grade                             10000 non-null  object \n",
      " 45  sub_grade                         10000 non-null  object \n",
      " 46  issue_month                       10000 non-null  object \n",
      " 47  loan_status                       10000 non-null  object \n",
      " 48  initial_listing_status            10000 non-null  object \n",
      " 49  disbursement_method               10000 non-null  object \n",
      " 50  balance                           10000 non-null  float64\n",
      " 51  paid_total                        10000 non-null  float64\n",
      " 52  paid_principal                    10000 non-null  float64\n",
      " 53  paid_interest                     10000 non-null  float64\n",
      " 54  paid_late_fees                    10000 non-null  float64\n",
      "dtypes: float64(17), int64(25), object(13)\n",
      "memory usage: 4.2+ MB\n"
     ]
    }
   ],
   "source": [
    "loans_full_schema.info()"
   ]
  },
  {
   "attachments": {},
   "cell_type": "markdown",
   "metadata": {},
   "source": [
    "The dataset contains 10000 observations (rows) and 55 variables (columns). Most of the columns are numeric but we also have categorical variables(both ordinal and nominal) and datetime variables."
   ]
  },
  {
   "attachments": {},
   "cell_type": "markdown",
   "metadata": {},
   "source": [
    "### Adjust datetime `issue_month` column"
   ]
  },
  {
   "cell_type": "code",
   "execution_count": 73,
   "metadata": {},
   "outputs": [],
   "source": [
    "loans_full_schema['issue_month'] = pd.to_datetime(loans_full_schema['issue_month'])"
   ]
  },
  {
   "cell_type": "code",
   "execution_count": 80,
   "metadata": {},
   "outputs": [
    {
     "name": "stdout",
     "output_type": "stream",
     "text": [
      "<class 'pandas.core.series.Series'>\n",
      "RangeIndex: 10000 entries, 0 to 9999\n",
      "Series name: issue_month\n",
      "Non-Null Count  Dtype         \n",
      "--------------  -----         \n",
      "10000 non-null  datetime64[ns]\n",
      "dtypes: datetime64[ns](1)\n",
      "memory usage: 78.2 KB\n"
     ]
    }
   ],
   "source": [
    "loans_full_schema.issue_month.info()"
   ]
  },
  {
   "attachments": {},
   "cell_type": "markdown",
   "metadata": {},
   "source": [
    "### Checking for missing values "
   ]
  },
  {
   "cell_type": "code",
   "execution_count": 81,
   "metadata": {},
   "outputs": [
    {
     "data": {
      "text/plain": [
       "emp_title                            833\n",
       "emp_length                           817\n",
       "state                                  0\n",
       "homeownership                          0\n",
       "annual_income                          0\n",
       "verified_income                        0\n",
       "debt_to_income                        24\n",
       "annual_income_joint                 8505\n",
       "verification_income_joint           8545\n",
       "debt_to_income_joint                8505\n",
       "delinq_2y                              0\n",
       "months_since_last_delinq            5658\n",
       "earliest_credit_line                   0\n",
       "inquiries_last_12m                     0\n",
       "total_credit_lines                     0\n",
       "open_credit_lines                      0\n",
       "total_credit_limit                     0\n",
       "total_credit_utilized                  0\n",
       "num_collections_last_12m               0\n",
       "num_historical_failed_to_pay           0\n",
       "months_since_90d_late               7715\n",
       "current_accounts_delinq                0\n",
       "total_collection_amount_ever           0\n",
       "current_installment_accounts           0\n",
       "accounts_opened_24m                    0\n",
       "months_since_last_credit_inquiry    1271\n",
       "num_satisfactory_accounts              0\n",
       "num_accounts_120d_past_due           318\n",
       "num_accounts_30d_past_due              0\n",
       "num_active_debit_accounts              0\n",
       "total_debit_limit                      0\n",
       "num_total_cc_accounts                  0\n",
       "num_open_cc_accounts                   0\n",
       "num_cc_carrying_balance                0\n",
       "num_mort_accounts                      0\n",
       "account_never_delinq_percent           0\n",
       "tax_liens                              0\n",
       "public_record_bankrupt                 0\n",
       "loan_purpose                           0\n",
       "application_type                       0\n",
       "loan_amount                            0\n",
       "term                                   0\n",
       "interest_rate                          0\n",
       "installment                            0\n",
       "grade                                  0\n",
       "sub_grade                              0\n",
       "issue_month                            0\n",
       "loan_status                            0\n",
       "initial_listing_status                 0\n",
       "disbursement_method                    0\n",
       "balance                                0\n",
       "paid_total                             0\n",
       "paid_principal                         0\n",
       "paid_interest                          0\n",
       "paid_late_fees                         0\n",
       "dtype: int64"
      ]
     },
     "execution_count": 81,
     "metadata": {},
     "output_type": "execute_result"
    }
   ],
   "source": [
    "loans_full_schema.isnull().sum()"
   ]
  },
  {
   "cell_type": "code",
   "execution_count": 82,
   "metadata": {},
   "outputs": [
    {
     "data": {
      "text/plain": [
       "(array([ 0,  1,  6,  7,  8,  9, 11, 20, 25, 27], dtype=int64),)"
      ]
     },
     "execution_count": 82,
     "metadata": {},
     "output_type": "execute_result"
    }
   ],
   "source": [
    "missing_val_ind = loans_full_schema.isnull().sum().to_numpy().nonzero()\n",
    "missing_val_ind"
   ]
  },
  {
   "cell_type": "code",
   "execution_count": 83,
   "metadata": {},
   "outputs": [
    {
     "data": {
      "text/plain": [
       "Index(['emp_title', 'emp_length', 'debt_to_income', 'annual_income_joint',\n",
       "       'verification_income_joint', 'debt_to_income_joint',\n",
       "       'months_since_last_delinq', 'months_since_90d_late',\n",
       "       'months_since_last_credit_inquiry', 'num_accounts_120d_past_due'],\n",
       "      dtype='object')"
      ]
     },
     "execution_count": 83,
     "metadata": {},
     "output_type": "execute_result"
    }
   ],
   "source": [
    "missing_values_count = loans_full_schema.isnull().sum().iloc[missing_val_ind]\n",
    "missing_values_count.keys()"
   ]
  },
  {
   "attachments": {},
   "cell_type": "markdown",
   "metadata": {},
   "source": [
    "The number of the missing values for each feature:"
   ]
  },
  {
   "cell_type": "code",
   "execution_count": 12,
   "metadata": {},
   "outputs": [
    {
     "data": {
      "text/plain": [
       "emp_title                            833\n",
       "emp_length                           817\n",
       "debt_to_income                        24\n",
       "annual_income_joint                 8505\n",
       "verification_income_joint           8545\n",
       "debt_to_income_joint                8505\n",
       "months_since_last_delinq            5658\n",
       "months_since_90d_late               7715\n",
       "months_since_last_credit_inquiry    1271\n",
       "num_accounts_120d_past_due           318\n",
       "dtype: int64"
      ]
     },
     "execution_count": 12,
     "metadata": {},
     "output_type": "execute_result"
    }
   ],
   "source": [
    "missing_values_count"
   ]
  },
  {
   "attachments": {},
   "cell_type": "markdown",
   "metadata": {},
   "source": [
    "There are a high percentage of values that is missing for some features: \n",
    "```\n",
    "FEATURE                     % MISSING\n",
    "'annual_income_joint'       85%,\n",
    "'verification_income_joint' 85%, \n",
    "'debt_to_income_joint'      85%, \n",
    "'months_since_last_delinq'  57%, \n",
    "'months_since_90d_late'     77%'\n",
    "```"
   ]
  },
  {
   "attachments": {},
   "cell_type": "markdown",
   "metadata": {},
   "source": [
    "About these features:\n",
    "- annual_income_joint = If this is a joint application, then the annual income of the two parties applying \n",
    "- verification_income_joint = Type of verification of the joint income, IF joint (40 joint observations without inforamtion about the verification)\n",
    "- debt_to_income_joint = Debt-to-income ratio for the two parties, IF joint \n",
    "- months_since_last_delinq = Months since the last delinquency (behind on payments)"
   ]
  },
  {
   "cell_type": "code",
   "execution_count": 93,
   "metadata": {},
   "outputs": [
    {
     "data": {
      "text/plain": [
       "0.1495"
      ]
     },
     "execution_count": 93,
     "metadata": {},
     "output_type": "execute_result"
    }
   ],
   "source": [
    "loans_full_schema.application_type.value_counts()[1] / len(loans_full_schema.application_type)"
   ]
  },
  {
   "attachments": {},
   "cell_type": "markdown",
   "metadata": {},
   "source": [
    "\n",
    "They are mostly about the observations with `application_type = joint`, which is about 15% of the total observations. So it is expected to have a lot `nan` values."
   ]
  },
  {
   "attachments": {},
   "cell_type": "markdown",
   "metadata": {},
   "source": [
    "### Check for duplicate rows "
   ]
  },
  {
   "cell_type": "code",
   "execution_count": 14,
   "metadata": {},
   "outputs": [
    {
     "name": "stdout",
     "output_type": "stream",
     "text": [
      "Search for duplicate rows in dataset: 0\n"
     ]
    }
   ],
   "source": [
    "print(f'Search for duplicate rows in dataset: {loans_full_schema.duplicated().sum()}')"
   ]
  },
  {
   "attachments": {},
   "cell_type": "markdown",
   "metadata": {},
   "source": [
    "There are no duplicate rows! "
   ]
  },
  {
   "cell_type": "markdown",
   "metadata": {},
   "source": [
    "### And now some more details about some important features"
   ]
  },
  {
   "cell_type": "code",
   "execution_count": 16,
   "metadata": {},
   "outputs": [
    {
     "data": {
      "text/plain": [
       "60000.00    383\n",
       "50000.00    350\n",
       "65000.00    314\n",
       "70000.00    273\n",
       "75000.00    260\n",
       "           ... \n",
       "25560.00      1\n",
       "63950.00      1\n",
       "22104.00      1\n",
       "34415.16      1\n",
       "96774.00      1\n",
       "Name: annual_income, Length: 1463, dtype: int64"
      ]
     },
     "execution_count": 16,
     "metadata": {},
     "output_type": "execute_result"
    }
   ],
   "source": [
    "loans_full_schema.annual_income.value_counts()"
   ]
  },
  {
   "attachments": {},
   "cell_type": "markdown",
   "metadata": {},
   "source": [
    "Range of years of earliest credit line"
   ]
  },
  {
   "cell_type": "code",
   "execution_count": 17,
   "metadata": {},
   "outputs": [
    {
     "data": {
      "text/plain": [
       "(1963, 2015)"
      ]
     },
     "execution_count": 17,
     "metadata": {},
     "output_type": "execute_result"
    }
   ],
   "source": [
    "loans_full_schema.earliest_credit_line.min(), loans_full_schema.earliest_credit_line.max()"
   ]
  },
  {
   "attachments": {},
   "cell_type": "markdown",
   "metadata": {},
   "source": [
    "Number of current accounts that are 120 and 30 days past due: only 1 for 30 days"
   ]
  },
  {
   "cell_type": "code",
   "execution_count": 96,
   "metadata": {},
   "outputs": [
    {
     "data": {
      "text/plain": [
       "num_accounts_120d_past_due    0.0\n",
       "num_accounts_30d_past_due     1.0\n",
       "dtype: float64"
      ]
     },
     "execution_count": 96,
     "metadata": {},
     "output_type": "execute_result"
    }
   ],
   "source": [
    "loans_full_schema[['num_accounts_120d_past_due', 'num_accounts_30d_past_due']].sum()"
   ]
  },
  {
   "attachments": {},
   "cell_type": "markdown",
   "metadata": {},
   "source": [
    "There are 12 different loan purposes, with the most popoular: \n",
    "```\n",
    "debt_consolidation    5144\n",
    "credit_card           2249\n",
    "other                  914\n",
    "```"
   ]
  },
  {
   "cell_type": "code",
   "execution_count": 19,
   "metadata": {},
   "outputs": [
    {
     "data": {
      "text/plain": [
       "debt_consolidation    5144\n",
       "credit_card           2249\n",
       "other                  914\n",
       "home_improvement       680\n",
       "major_purchase         303\n",
       "medical                162\n",
       "house                  151\n",
       "car                    131\n",
       "small_business         125\n",
       "moving                  69\n",
       "vacation                62\n",
       "renewable_energy        10\n",
       "Name: loan_purpose, dtype: int64"
      ]
     },
     "execution_count": 19,
     "metadata": {},
     "output_type": "execute_result"
    }
   ],
   "source": [
    "loans_full_schema.loan_purpose.value_counts()"
   ]
  },
  {
   "attachments": {},
   "cell_type": "markdown",
   "metadata": {},
   "source": [
    "#### Basic statistics for :\n"
   ]
  },
  {
   "attachments": {},
   "cell_type": "markdown",
   "metadata": {},
   "source": [
    "- the annual income of the observations"
   ]
  },
  {
   "cell_type": "code",
   "execution_count": 20,
   "metadata": {},
   "outputs": [
    {
     "data": {
      "text/plain": [
       "count      10000.00\n",
       "mean       79222.15\n",
       "std        64734.29\n",
       "min            0.00\n",
       "25%        45000.00\n",
       "50%        65000.00\n",
       "75%        95000.00\n",
       "max      2300000.00\n",
       "Name: annual_income, dtype: float64"
      ]
     },
     "execution_count": 20,
     "metadata": {},
     "output_type": "execute_result"
    }
   ],
   "source": [
    "loans_full_schema.annual_income.describe().round(2)"
   ]
  },
  {
   "attachments": {},
   "cell_type": "markdown",
   "metadata": {},
   "source": [
    "- the interest rates of the loans"
   ]
  },
  {
   "cell_type": "code",
   "execution_count": 22,
   "metadata": {},
   "outputs": [
    {
     "data": {
      "text/plain": [
       "count    10000.00\n",
       "mean        12.43\n",
       "std          5.00\n",
       "min          5.31\n",
       "25%          9.43\n",
       "50%         11.98\n",
       "75%         15.05\n",
       "max         30.94\n",
       "Name: interest_rate, dtype: float64"
      ]
     },
     "execution_count": 22,
     "metadata": {},
     "output_type": "execute_result"
    }
   ],
   "source": [
    "loans_full_schema.interest_rate.describe().round(2)"
   ]
  },
  {
   "attachments": {},
   "cell_type": "markdown",
   "metadata": {},
   "source": [
    "- the amount of the loans"
   ]
  },
  {
   "cell_type": "code",
   "execution_count": 23,
   "metadata": {},
   "outputs": [
    {
     "data": {
      "text/plain": [
       "count    10000.00\n",
       "mean     16361.92\n",
       "std      10301.96\n",
       "min       1000.00\n",
       "25%       8000.00\n",
       "50%      14500.00\n",
       "75%      24000.00\n",
       "max      40000.00\n",
       "Name: loan_amount, dtype: float64"
      ]
     },
     "execution_count": 23,
     "metadata": {},
     "output_type": "execute_result"
    }
   ],
   "source": [
    "loans_full_schema.loan_amount.describe().round(2)"
   ]
  },
  {
   "attachments": {},
   "cell_type": "markdown",
   "metadata": {},
   "source": [
    "- debt-to-income ratio"
   ]
  },
  {
   "cell_type": "code",
   "execution_count": 25,
   "metadata": {},
   "outputs": [
    {
     "data": {
      "text/plain": [
       "count    9976.000000\n",
       "mean       19.308192\n",
       "std        15.004851\n",
       "min         0.000000\n",
       "25%        11.057500\n",
       "50%        17.570000\n",
       "75%        25.002500\n",
       "max       469.090000\n",
       "Name: debt_to_income, dtype: float64"
      ]
     },
     "execution_count": 25,
     "metadata": {},
     "output_type": "execute_result"
    }
   ],
   "source": [
    "loans_full_schema.debt_to_income.describe()"
   ]
  },
  {
   "attachments": {},
   "cell_type": "markdown",
   "metadata": {},
   "source": [
    "### 5 Visualizations"
   ]
  },
  {
   "attachments": {},
   "cell_type": "markdown",
   "metadata": {},
   "source": [
    "It would be interesting to see the interest rate against the loan amount, annual income, grade, history of delayed payment "
   ]
  },
  {
   "cell_type": "code",
   "execution_count": 98,
   "metadata": {},
   "outputs": [
    {
     "data": {
      "image/png": "[encoded data removed]",
      "text/plain": [
       "<Figure size 720x576 with 1 Axes>"
      ]
     },
     "metadata": {
      "needs_background": "light"
     },
     "output_type": "display_data"
    }
   ],
   "source": [
    "plt.figure(figsize=[10,8])\n",
    "\n",
    "binsize = 1000\n",
    "bins = np.arange(loans_full_schema['loan_amount'].min(), loans_full_schema['loan_amount'].max()+binsize, binsize)\n",
    "plt.hist(data = loans_full_schema, x = 'loan_amount', bins=bins, histtype='barstacked', color='skyblue', ec='blue')\n",
    "plt.title('Loan Amount Distribution')\n",
    "plt.xlabel('Loan Amount (in thousands $)')\n",
    "plt.ylabel('# of Observations')\n",
    "plt.xticks([5000, 10000, 15000, 20000, 25000, 30000, 35000, 40000], ['5','10', '15', '20', '25', '30', '35', '40'])\n",
    "plt.show()\n"
   ]
  },
  {
   "attachments": {},
   "cell_type": "markdown",
   "metadata": {},
   "source": [
    "What we can say about this histogram is that the amounts that are being chosen are amounts that are round numbers.\n",
    "\n",
    "Most common amount is 10,000 $, approximately 10% of the loans."
   ]
  },
  {
   "attachments": {},
   "cell_type": "markdown",
   "metadata": {},
   "source": [
    "Rescale the Loan Amount data, for a more clear distribution"
   ]
  },
  {
   "cell_type": "code",
   "execution_count": 99,
   "metadata": {},
   "outputs": [
    {
     "data": {
      "image/png": "[encoded data removed]",
      "text/plain": [
       "<Figure size 720x576 with 1 Axes>"
      ]
     },
     "metadata": {
      "needs_background": "light"
     },
     "output_type": "display_data"
    }
   ],
   "source": [
    "plt.figure(figsize=[10,8])\n",
    "log_binsize = 0.025\n",
    "bins = 10 ** np.arange(3, np.log10(loans_full_schema['loan_amount'].max()) + log_binsize, log_binsize)\n",
    "# plt.subplot(221)\n",
    "plt.hist(data = loans_full_schema, x = 'loan_amount', bins=bins, histtype='barstacked', color='skyblue', ec='blue')\n",
    "plt.title('Log Scaled Loan Amount Distribution')\n",
    "plt.xscale('log')\n",
    "plt.xlabel('Loan Amount (in thousands $)')\n",
    "plt.ylabel('# of Observations')\n",
    "plt.xticks([1000, 2000, 3000, 4000, 5000, 6000, 7000, 8000, 9000, 10000, 15000, 20000, 25000, 30000, 35000, 40000], ['1', '2', '3', '4', '5', '6', '7', '8', '9', '10', '15', '20', '25', '30', '35', '40'])\n",
    "plt.show()\n"
   ]
  },
  {
   "attachments": {},
   "cell_type": "markdown",
   "metadata": {},
   "source": [
    "The highest value for a loan amount is between 10K and 20K, while high number we can see between 20K and 30K. "
   ]
  },
  {
   "cell_type": "code",
   "execution_count": 100,
   "metadata": {},
   "outputs": [
    {
     "data": {
      "image/png": "[encoded data removed]",
      "text/plain": [
       "<Figure size 720x576 with 1 Axes>"
      ]
     },
     "metadata": {
      "needs_background": "light"
     },
     "output_type": "display_data"
    }
   ],
   "source": [
    "plt.figure(figsize=[10,8])\n",
    "plt.barh(loans_full_schema.interest_rate, loans_full_schema.annual_income, color = 'skyblue')\n",
    "plt.title('Income VS Interest Rate')\n",
    "plt.xlabel('Annual Income (in thousands)')\n",
    "plt.ylabel('Interest Rate')\n",
    "plt.xticks([0, 500000, 750000, 1000000, 1250000, 1500000, 1750000, 2000000, 225000, 2500000],['0', '0.5','0.75', '1', '1.25', '1.5', '1.75', '2', '2.25', '2.5'])\n",
    "plt.show() \n"
   ]
  },
  {
   "attachments": {},
   "cell_type": "markdown",
   "metadata": {},
   "source": [
    "The lower the annual income the higher the interest rate."
   ]
  },
  {
   "cell_type": "code",
   "execution_count": 30,
   "metadata": {},
   "outputs": [
    {
     "data": {
      "image/png": "[encoded data removed]",
      "text/plain": [
       "<Figure size 720x576 with 1 Axes>"
      ]
     },
     "metadata": {
      "needs_background": "light"
     },
     "output_type": "display_data"
    }
   ],
   "source": [
    "plt.figure(figsize=[10,8])\n",
    "# plt.subplot(222)\n",
    "grades = loans_full_schema.grade.value_counts().sort_index()\n",
    "\n",
    "plt.bar(loans_full_schema.grade, loans_full_schema.interest_rate, color = 'skyblue')\n",
    "plt.title('Loan Grade VS Interest Rate')\n",
    "plt.xlabel('Loan Grade')\n",
    "plt.ylabel('Interest Rate')\n",
    "plt.show()\n",
    " \n"
   ]
  },
  {
   "attachments": {},
   "cell_type": "markdown",
   "metadata": {},
   "source": [
    "Lowest Interest Rate for the best Grade A. The rate increases as the grade is getting lower."
   ]
  },
  {
   "cell_type": "code",
   "execution_count": 101,
   "metadata": {},
   "outputs": [
    {
     "data": {
      "image/png": "[encoded data removed]",
      "text/plain": [
       "<Figure size 720x576 with 1 Axes>"
      ]
     },
     "metadata": {
      "needs_background": "light"
     },
     "output_type": "display_data"
    }
   ],
   "source": [
    "plt.figure(figsize=[10,8])\n",
    "grades = loans_full_schema.grade.value_counts().sort_index()\n",
    "ticks = loans_full_schema.grade.value_counts().sort_index()\n",
    "plt.bar(grades.keys(), grades)\n",
    "plt.title('Loan Grade Counts')\n",
    "plt.xlabel('Loan Grade')\n",
    "plt.ylabel('# of Observations')\n",
    "plt.xticks(['A', 'B', 'C', 'D', 'E', 'F', 'G'], ['A', 'B', 'C', 'D', 'E', 'F', 'G'])\n",
    "plt.yticks(ticks=ticks)\n",
    "plt.show()\n"
   ]
  },
  {
   "attachments": {},
   "cell_type": "markdown",
   "metadata": {},
   "source": [
    "Most of the loans made have grade B, then C and A. This is expected since in our data we only have loans that were actually made (hence approved)."
   ]
  },
  {
   "attachments": {},
   "cell_type": "markdown",
   "metadata": {},
   "source": [
    "Some information about the borrowrers"
   ]
  },
  {
   "cell_type": "code",
   "execution_count": 32,
   "metadata": {},
   "outputs": [
    {
     "data": {
      "text/plain": [
       "MORTGAGE    4789\n",
       "RENT        3858\n",
       "OWN         1353\n",
       "Name: homeownership, dtype: int64"
      ]
     },
     "execution_count": 32,
     "metadata": {},
     "output_type": "execute_result"
    }
   ],
   "source": [
    "loans_full_schema.homeownership.value_counts()"
   ]
  },
  {
   "cell_type": "code",
   "execution_count": 33,
   "metadata": {},
   "outputs": [
    {
     "data": {
      "text/plain": [
       "Source Verified    4116\n",
       "Not Verified       3594\n",
       "Verified           2290\n",
       "Name: verified_income, dtype: int64"
      ]
     },
     "execution_count": 33,
     "metadata": {},
     "output_type": "execute_result"
    }
   ],
   "source": [
    "loans_full_schema.verified_income.value_counts()"
   ]
  },
  {
   "cell_type": "code",
   "execution_count": 102,
   "metadata": {},
   "outputs": [
    {
     "data": {
      "image/png": "[encoded data removed]",
      "text/plain": [
       "<Figure size 1080x1080 with 3 Axes>"
      ]
     },
     "metadata": {},
     "output_type": "display_data"
    }
   ],
   "source": [
    "states = loans_full_schema.state.value_counts().sort_values(ascending=False)\n",
    "states[0:10]\n",
    "others = pd.Series({'Others': states[10:].sum()})\n",
    "states_topten = pd.concat([states[0:10],others])\n",
    "\n",
    "homeownership = loans_full_schema.homeownership.value_counts()\n",
    "verified = loans_full_schema.verified_income.value_counts()\n",
    "\n",
    "plt.figure(figsize = [15,15])\n",
    "plt.subplot(1,3,1)\n",
    "plt.pie(states_topten, labels = states_topten.keys(), autopct='%1.1f%%' , shadow=True, startangle=90)\n",
    "plt.title('# of Loan Observations in each state (Top 10)')\n",
    "\n",
    "plt.subplot(1,3,2)\n",
    "plt.pie(homeownership, labels=homeownership.keys(), autopct='%1.1f%%',startangle=90, shadow=True)\n",
    "plt.title('Types of Home ownership')\n",
    "\n",
    "plt.subplot(1,3,3)\n",
    "plt.pie(verified, labels=verified.keys(), autopct='%1.1f%%', startangle=90, shadow=True)\n",
    "plt.title('Types of verification of income')\n",
    "\n",
    "plt.show()\n",
    "\n",
    "#  THIS COULD BE A PIE CHART WITH THE STATES \n",
    "#  or a bar chart "
   ]
  },
  {
   "attachments": {},
   "cell_type": "markdown",
   "metadata": {},
   "source": [
    "- Top 5 states that have made loans: \n",
    "    ```\n",
    "    CA        1330 \n",
    "    TX         806\n",
    "    NY         793\n",
    "    FL         732\n",
    "    IL         382\n",
    "    ```\n",
    "- Almost 50% have a mortgage for their home, and 40% live on rent \n",
    "- A bit more than 1/3 of observations' incomes in not verified "
   ]
  },
  {
   "attachments": {},
   "cell_type": "markdown",
   "metadata": {},
   "source": [
    "#### Below are some general descriptions of features that I think play some important role to the outcome (approval / disapproval) of the loan. "
   ]
  },
  {
   "cell_type": "code",
   "execution_count": 35,
   "metadata": {},
   "outputs": [
    {
     "data": {
      "text/plain": [
       "count     10000.00\n",
       "mean      27357.41\n",
       "std       26570.16\n",
       "min           0.00\n",
       "25%       10000.00\n",
       "50%       19500.00\n",
       "75%       36100.00\n",
       "max      386700.00\n",
       "Name: total_debit_limit, dtype: float64"
      ]
     },
     "execution_count": 35,
     "metadata": {},
     "output_type": "execute_result"
    }
   ],
   "source": [
    "loans_full_schema.total_debit_limit.describe().round(2)"
   ]
  },
  {
   "cell_type": "code",
   "execution_count": 36,
   "metadata": {},
   "outputs": [
    {
     "data": {
      "text/plain": [
       "count    10000.00\n",
       "mean        94.65\n",
       "std          9.16\n",
       "min         14.30\n",
       "25%         92.60\n",
       "50%        100.00\n",
       "75%        100.00\n",
       "max        100.00\n",
       "Name: account_never_delinq_percent, dtype: float64"
      ]
     },
     "execution_count": 36,
     "metadata": {},
     "output_type": "execute_result"
    }
   ],
   "source": [
    "loans_full_schema.account_never_delinq_percent.describe().round(2)"
   ]
  },
  {
   "cell_type": "code",
   "execution_count": 37,
   "metadata": {},
   "outputs": [
    {
     "data": {
      "text/plain": [
       "36    6970\n",
       "60    3030\n",
       "Name: term, dtype: int64"
      ]
     },
     "execution_count": 37,
     "metadata": {},
     "output_type": "execute_result"
    }
   ],
   "source": [
    "loans_full_schema.term.value_counts()"
   ]
  },
  {
   "attachments": {},
   "cell_type": "markdown",
   "metadata": {},
   "source": [
    "The length of the loan is either 36 months (3 years) or 60 months (5 years)"
   ]
  },
  {
   "cell_type": "code",
   "execution_count": 38,
   "metadata": {},
   "outputs": [
    {
     "data": {
      "text/plain": [
       "Current               9375\n",
       "Fully Paid             447\n",
       "In Grace Period         67\n",
       "Late (31-120 days)      66\n",
       "Late (16-30 days)       38\n",
       "Charged Off              7\n",
       "Name: loan_status, dtype: int64"
      ]
     },
     "execution_count": 38,
     "metadata": {},
     "output_type": "execute_result"
    }
   ],
   "source": [
    "loans_full_schema.loan_status.value_counts()"
   ]
  },
  {
   "cell_type": "code",
   "execution_count": 103,
   "metadata": {},
   "outputs": [
    {
     "data": {
      "image/png": "[encoded data removed]",
      "text/plain": [
       "<Figure size 576x576 with 1 Axes>"
      ]
     },
     "metadata": {
      "needs_background": "light"
     },
     "output_type": "display_data"
    }
   ],
   "source": [
    "status = loans_full_schema.loan_status.value_counts()\n",
    "status  = status.drop('Current')\n",
    "\n",
    "plt.figure(figsize=[8,8])\n",
    "plt.bar(status.keys(), status, width=5*[0.5])\n",
    "plt.xticks(rotation = 30)\n",
    "plt.title('Loan Status')\n",
    "plt.show()"
   ]
  },
  {
   "attachments": {},
   "cell_type": "markdown",
   "metadata": {},
   "source": [
    "But with the \"Current\" bar being way higher than the others, we can focus on the other 4 status"
   ]
  },
  {
   "cell_type": "code",
   "execution_count": 104,
   "metadata": {},
   "outputs": [
    {
     "data": {
      "image/png": "[encoded data removed]",
      "text/plain": [
       "<Figure size 576x576 with 1 Axes>"
      ]
     },
     "metadata": {
      "needs_background": "light"
     },
     "output_type": "display_data"
    }
   ],
   "source": [
    "status = np.array(loans_full_schema.loan_status.value_counts().keys())\n",
    "status[0] = status[0] + '\\n (up to 9375)'\n",
    "plt.figure(figsize=[8,8])\n",
    "plt.bar(status, loans_full_schema.loan_status.value_counts(), width=6*[0.5])\n",
    "plt.ylim(top = 500)\n",
    "plt.xticks(status, rotation = 30)\n",
    "plt.title('Loan Status')\n",
    "plt.show()"
   ]
  },
  {
   "attachments": {},
   "cell_type": "markdown",
   "metadata": {},
   "source": [
    "- Fully Paid only 4% \n",
    "- Late (16-30 days) 4%\n",
    "- Late (31-120 days) 7%\n",
    "- Charged Off 0,1% \n"
   ]
  },
  {
   "cell_type": "code",
   "execution_count": 42,
   "metadata": {},
   "outputs": [
    {
     "data": {
      "text/plain": [
       "whole         8206\n",
       "fractional    1794\n",
       "Name: initial_listing_status, dtype: int64"
      ]
     },
     "execution_count": 42,
     "metadata": {},
     "output_type": "execute_result"
    }
   ],
   "source": [
    "loans_full_schema.initial_listing_status.value_counts()"
   ]
  },
  {
   "attachments": {},
   "cell_type": "markdown",
   "metadata": {},
   "source": [
    "Amounts paid for 4 important categories: amount of loan paid, amount left, intest paid, late fees paid"
   ]
  },
  {
   "cell_type": "code",
   "execution_count": 43,
   "metadata": {},
   "outputs": [
    {
     "data": {
      "text/html": [
       "<div>\n",
       "<style scoped>\n",
       "    .dataframe tbody tr th:only-of-type {\n",
       "        vertical-align: middle;\n",
       "    }\n",
       "\n",
       "    .dataframe tbody tr th {\n",
       "        vertical-align: top;\n",
       "    }\n",
       "\n",
       "    .dataframe thead th {\n",
       "        text-align: right;\n",
       "    }\n",
       "</style>\n",
       "<table border=\"1\" class=\"dataframe\">\n",
       "  <thead>\n",
       "    <tr style=\"text-align: right;\">\n",
       "      <th></th>\n",
       "      <th>paid_total</th>\n",
       "      <th>paid_principal</th>\n",
       "      <th>paid_interest</th>\n",
       "      <th>paid_late_fees</th>\n",
       "    </tr>\n",
       "  </thead>\n",
       "  <tbody>\n",
       "    <tr>\n",
       "      <th>0</th>\n",
       "      <td>1999.33</td>\n",
       "      <td>984.14</td>\n",
       "      <td>1015.19</td>\n",
       "      <td>0.0</td>\n",
       "    </tr>\n",
       "    <tr>\n",
       "      <th>1</th>\n",
       "      <td>499.12</td>\n",
       "      <td>348.63</td>\n",
       "      <td>150.49</td>\n",
       "      <td>0.0</td>\n",
       "    </tr>\n",
       "    <tr>\n",
       "      <th>2</th>\n",
       "      <td>281.80</td>\n",
       "      <td>175.37</td>\n",
       "      <td>106.43</td>\n",
       "      <td>0.0</td>\n",
       "    </tr>\n",
       "    <tr>\n",
       "      <th>3</th>\n",
       "      <td>3312.89</td>\n",
       "      <td>2746.74</td>\n",
       "      <td>566.15</td>\n",
       "      <td>0.0</td>\n",
       "    </tr>\n",
       "    <tr>\n",
       "      <th>4</th>\n",
       "      <td>2324.65</td>\n",
       "      <td>1569.85</td>\n",
       "      <td>754.80</td>\n",
       "      <td>0.0</td>\n",
       "    </tr>\n",
       "    <tr>\n",
       "      <th>5</th>\n",
       "      <td>873.13</td>\n",
       "      <td>743.29</td>\n",
       "      <td>129.84</td>\n",
       "      <td>0.0</td>\n",
       "    </tr>\n",
       "    <tr>\n",
       "      <th>6</th>\n",
       "      <td>2730.51</td>\n",
       "      <td>1440.00</td>\n",
       "      <td>1290.51</td>\n",
       "      <td>0.0</td>\n",
       "    </tr>\n",
       "    <tr>\n",
       "      <th>7</th>\n",
       "      <td>1765.84</td>\n",
       "      <td>994.61</td>\n",
       "      <td>771.23</td>\n",
       "      <td>0.0</td>\n",
       "    </tr>\n",
       "    <tr>\n",
       "      <th>8</th>\n",
       "      <td>2703.22</td>\n",
       "      <td>1843.34</td>\n",
       "      <td>859.88</td>\n",
       "      <td>0.0</td>\n",
       "    </tr>\n",
       "    <tr>\n",
       "      <th>9</th>\n",
       "      <td>391.15</td>\n",
       "      <td>322.87</td>\n",
       "      <td>68.28</td>\n",
       "      <td>0.0</td>\n",
       "    </tr>\n",
       "  </tbody>\n",
       "</table>\n",
       "</div>"
      ],
      "text/plain": [
       "   paid_total  paid_principal  paid_interest  paid_late_fees\n",
       "0     1999.33          984.14        1015.19             0.0\n",
       "1      499.12          348.63         150.49             0.0\n",
       "2      281.80          175.37         106.43             0.0\n",
       "3     3312.89         2746.74         566.15             0.0\n",
       "4     2324.65         1569.85         754.80             0.0\n",
       "5      873.13          743.29         129.84             0.0\n",
       "6     2730.51         1440.00        1290.51             0.0\n",
       "7     1765.84          994.61         771.23             0.0\n",
       "8     2703.22         1843.34         859.88             0.0\n",
       "9      391.15          322.87          68.28             0.0"
      ]
     },
     "execution_count": 43,
     "metadata": {},
     "output_type": "execute_result"
    }
   ],
   "source": [
    "loans_full_schema[['paid_total','paid_principal', 'paid_interest', 'paid_late_fees']].head(10)"
   ]
  },
  {
   "attachments": {},
   "cell_type": "markdown",
   "metadata": {},
   "source": [
    "### Predicting the Interest Rate"
   ]
  },
  {
   "attachments": {},
   "cell_type": "markdown",
   "metadata": {},
   "source": [
    "#### I am going to get rid of 45 features that aren't useful for predicting the interest rate\n"
   ]
  },
  {
   "attachments": {},
   "cell_type": "markdown",
   "metadata": {},
   "source": [
    "The features that I keep: \n",
    "- 'annual_income',\n",
    "- 'debt_to_income',\n",
    "- 'delinq_2y',\n",
    "- 'num_historical_failed_to_pay',\n",
    "- 'loan_amount',\n",
    "- 'interest_rate',\n",
    "- 'installment',\n",
    "- 'grade', \n",
    "- 'sub_grade',\n",
    "- 'balance',"
   ]
  },
  {
   "cell_type": "code",
   "execution_count": 46,
   "metadata": {},
   "outputs": [
    {
     "name": "stdout",
     "output_type": "stream",
     "text": [
      "<class 'pandas.core.frame.DataFrame'>\n",
      "RangeIndex: 10000 entries, 0 to 9999\n",
      "Data columns (total 10 columns):\n",
      " #   Column                        Non-Null Count  Dtype  \n",
      "---  ------                        --------------  -----  \n",
      " 0   annual_income                 10000 non-null  float64\n",
      " 1   debt_to_income                9976 non-null   float64\n",
      " 2   delinq_2y                     10000 non-null  int64  \n",
      " 3   num_historical_failed_to_pay  10000 non-null  int64  \n",
      " 4   loan_amount                   10000 non-null  int64  \n",
      " 5   interest_rate                 10000 non-null  float64\n",
      " 6   installment                   10000 non-null  float64\n",
      " 7   grade                         10000 non-null  object \n",
      " 8   sub_grade                     10000 non-null  object \n",
      " 9   balance                       10000 non-null  float64\n",
      "dtypes: float64(5), int64(3), object(2)\n",
      "memory usage: 781.4+ KB\n"
     ]
    }
   ],
   "source": [
    "prediction_features = loans_full_schema.drop(['emp_title', 'emp_length', 'state', 'homeownership', 'verified_income', 'annual_income_joint',\n",
    "       'verification_income_joint', 'debt_to_income_joint', 'months_since_last_delinq', 'earliest_credit_line',\n",
    "       'inquiries_last_12m', 'total_credit_lines', 'open_credit_lines',\n",
    "       'total_credit_limit', 'total_credit_utilized',\n",
    "       'num_collections_last_12m',\n",
    "       'months_since_90d_late', 'current_accounts_delinq',\n",
    "       'total_collection_amount_ever', 'current_installment_accounts',\n",
    "       'accounts_opened_24m', 'months_since_last_credit_inquiry',\n",
    "       'num_satisfactory_accounts', 'num_accounts_120d_past_due',\n",
    "       'num_accounts_30d_past_due', 'num_active_debit_accounts',\n",
    "       'total_debit_limit', 'num_total_cc_accounts', 'num_open_cc_accounts',\n",
    "       'num_cc_carrying_balance', 'num_mort_accounts',\n",
    "       'account_never_delinq_percent', 'tax_liens', 'public_record_bankrupt',\n",
    "       'loan_purpose', 'application_type',  'term',\n",
    "        'issue_month', 'loan_status', 'initial_listing_status', 'disbursement_method',\n",
    "        'paid_total', 'paid_principal', 'paid_interest',\n",
    "       'paid_late_fees'], axis=1)\n",
    "\n",
    "prediction_features.info()"
   ]
  },
  {
   "attachments": {},
   "cell_type": "markdown",
   "metadata": {},
   "source": [
    "Grade and Sub-grade are not numeric data"
   ]
  },
  {
   "cell_type": "code",
   "execution_count": 47,
   "metadata": {},
   "outputs": [
    {
     "data": {
      "text/plain": [
       "A    2459\n",
       "B    3037\n",
       "C    2653\n",
       "D    1446\n",
       "E     335\n",
       "F      58\n",
       "G      12\n",
       "Name: grade, dtype: int64"
      ]
     },
     "execution_count": 47,
     "metadata": {},
     "output_type": "execute_result"
    }
   ],
   "source": [
    "loans_full_schema.grade.value_counts().sort_index()"
   ]
  },
  {
   "cell_type": "code",
   "execution_count": 48,
   "metadata": {},
   "outputs": [
    {
     "data": {
      "text/plain": [
       "A1    422\n",
       "A2    480\n",
       "A3    504\n",
       "A4    568\n",
       "A5    485\n",
       "B1    647\n",
       "B2    638\n",
       "B3    540\n",
       "B4    581\n",
       "B5    631\n",
       "C1    597\n",
       "C2    572\n",
       "C3    501\n",
       "C4    503\n",
       "C5    480\n",
       "D1    319\n",
       "D2    323\n",
       "D3    311\n",
       "D4    231\n",
       "D5    262\n",
       "E1     41\n",
       "E2     57\n",
       "E3     73\n",
       "E4     73\n",
       "E5     91\n",
       "F1     31\n",
       "F2      9\n",
       "F3      9\n",
       "F4      5\n",
       "F5      4\n",
       "G1     11\n",
       "G4      1\n",
       "Name: sub_grade, dtype: int64"
      ]
     },
     "execution_count": 48,
     "metadata": {},
     "output_type": "execute_result"
    }
   ],
   "source": [
    "loans_full_schema.sub_grade.value_counts().sort_index()"
   ]
  },
  {
   "attachments": {},
   "cell_type": "markdown",
   "metadata": {},
   "source": [
    "for now I am dropping the grade & subgrade columns "
   ]
  },
  {
   "cell_type": "code",
   "execution_count": 49,
   "metadata": {},
   "outputs": [],
   "source": [
    "prediction_features.drop([ 'grade', 'sub_grade'], axis = 1, inplace=True)\n"
   ]
  },
  {
   "cell_type": "code",
   "execution_count": 50,
   "metadata": {},
   "outputs": [
    {
     "data": {
      "text/html": [
       "<div>\n",
       "<style scoped>\n",
       "    .dataframe tbody tr th:only-of-type {\n",
       "        vertical-align: middle;\n",
       "    }\n",
       "\n",
       "    .dataframe tbody tr th {\n",
       "        vertical-align: top;\n",
       "    }\n",
       "\n",
       "    .dataframe thead th {\n",
       "        text-align: right;\n",
       "    }\n",
       "</style>\n",
       "<table border=\"1\" class=\"dataframe\">\n",
       "  <thead>\n",
       "    <tr style=\"text-align: right;\">\n",
       "      <th></th>\n",
       "      <th>annual_income</th>\n",
       "      <th>debt_to_income</th>\n",
       "      <th>delinq_2y</th>\n",
       "      <th>num_historical_failed_to_pay</th>\n",
       "      <th>loan_amount</th>\n",
       "      <th>interest_rate</th>\n",
       "      <th>installment</th>\n",
       "      <th>balance</th>\n",
       "    </tr>\n",
       "  </thead>\n",
       "  <tbody>\n",
       "    <tr>\n",
       "      <th>0</th>\n",
       "      <td>90000.0</td>\n",
       "      <td>18.01</td>\n",
       "      <td>0</td>\n",
       "      <td>0</td>\n",
       "      <td>28000</td>\n",
       "      <td>14.07</td>\n",
       "      <td>652.53</td>\n",
       "      <td>27015.86</td>\n",
       "    </tr>\n",
       "    <tr>\n",
       "      <th>1</th>\n",
       "      <td>40000.0</td>\n",
       "      <td>5.04</td>\n",
       "      <td>0</td>\n",
       "      <td>1</td>\n",
       "      <td>5000</td>\n",
       "      <td>12.61</td>\n",
       "      <td>167.54</td>\n",
       "      <td>4651.37</td>\n",
       "    </tr>\n",
       "    <tr>\n",
       "      <th>2</th>\n",
       "      <td>40000.0</td>\n",
       "      <td>21.15</td>\n",
       "      <td>0</td>\n",
       "      <td>0</td>\n",
       "      <td>2000</td>\n",
       "      <td>17.09</td>\n",
       "      <td>71.40</td>\n",
       "      <td>1824.63</td>\n",
       "    </tr>\n",
       "    <tr>\n",
       "      <th>3</th>\n",
       "      <td>30000.0</td>\n",
       "      <td>10.16</td>\n",
       "      <td>0</td>\n",
       "      <td>1</td>\n",
       "      <td>21600</td>\n",
       "      <td>6.72</td>\n",
       "      <td>664.19</td>\n",
       "      <td>18853.26</td>\n",
       "    </tr>\n",
       "    <tr>\n",
       "      <th>4</th>\n",
       "      <td>35000.0</td>\n",
       "      <td>57.96</td>\n",
       "      <td>0</td>\n",
       "      <td>0</td>\n",
       "      <td>23000</td>\n",
       "      <td>14.07</td>\n",
       "      <td>786.87</td>\n",
       "      <td>21430.15</td>\n",
       "    </tr>\n",
       "    <tr>\n",
       "      <th>...</th>\n",
       "      <td>...</td>\n",
       "      <td>...</td>\n",
       "      <td>...</td>\n",
       "      <td>...</td>\n",
       "      <td>...</td>\n",
       "      <td>...</td>\n",
       "      <td>...</td>\n",
       "      <td>...</td>\n",
       "    </tr>\n",
       "    <tr>\n",
       "      <th>9995</th>\n",
       "      <td>108000.0</td>\n",
       "      <td>22.28</td>\n",
       "      <td>0</td>\n",
       "      <td>1</td>\n",
       "      <td>24000</td>\n",
       "      <td>7.35</td>\n",
       "      <td>744.90</td>\n",
       "      <td>21586.34</td>\n",
       "    </tr>\n",
       "    <tr>\n",
       "      <th>9996</th>\n",
       "      <td>121000.0</td>\n",
       "      <td>32.38</td>\n",
       "      <td>4</td>\n",
       "      <td>0</td>\n",
       "      <td>10000</td>\n",
       "      <td>19.03</td>\n",
       "      <td>366.72</td>\n",
       "      <td>9147.44</td>\n",
       "    </tr>\n",
       "    <tr>\n",
       "      <th>9997</th>\n",
       "      <td>67000.0</td>\n",
       "      <td>45.26</td>\n",
       "      <td>2</td>\n",
       "      <td>0</td>\n",
       "      <td>30000</td>\n",
       "      <td>23.88</td>\n",
       "      <td>1175.10</td>\n",
       "      <td>27617.65</td>\n",
       "    </tr>\n",
       "    <tr>\n",
       "      <th>9998</th>\n",
       "      <td>80000.0</td>\n",
       "      <td>11.99</td>\n",
       "      <td>0</td>\n",
       "      <td>0</td>\n",
       "      <td>24000</td>\n",
       "      <td>5.32</td>\n",
       "      <td>722.76</td>\n",
       "      <td>21518.12</td>\n",
       "    </tr>\n",
       "    <tr>\n",
       "      <th>9999</th>\n",
       "      <td>66000.0</td>\n",
       "      <td>20.82</td>\n",
       "      <td>0</td>\n",
       "      <td>0</td>\n",
       "      <td>12800</td>\n",
       "      <td>10.91</td>\n",
       "      <td>418.52</td>\n",
       "      <td>11574.83</td>\n",
       "    </tr>\n",
       "  </tbody>\n",
       "</table>\n",
       "<p>10000 rows × 8 columns</p>\n",
       "</div>"
      ],
      "text/plain": [
       "      annual_income  debt_to_income  delinq_2y  num_historical_failed_to_pay  \\\n",
       "0           90000.0           18.01          0                             0   \n",
       "1           40000.0            5.04          0                             1   \n",
       "2           40000.0           21.15          0                             0   \n",
       "3           30000.0           10.16          0                             1   \n",
       "4           35000.0           57.96          0                             0   \n",
       "...             ...             ...        ...                           ...   \n",
       "9995       108000.0           22.28          0                             1   \n",
       "9996       121000.0           32.38          4                             0   \n",
       "9997        67000.0           45.26          2                             0   \n",
       "9998        80000.0           11.99          0                             0   \n",
       "9999        66000.0           20.82          0                             0   \n",
       "\n",
       "      loan_amount  interest_rate  installment   balance  \n",
       "0           28000          14.07       652.53  27015.86  \n",
       "1            5000          12.61       167.54   4651.37  \n",
       "2            2000          17.09        71.40   1824.63  \n",
       "3           21600           6.72       664.19  18853.26  \n",
       "4           23000          14.07       786.87  21430.15  \n",
       "...           ...            ...          ...       ...  \n",
       "9995        24000           7.35       744.90  21586.34  \n",
       "9996        10000          19.03       366.72   9147.44  \n",
       "9997        30000          23.88      1175.10  27617.65  \n",
       "9998        24000           5.32       722.76  21518.12  \n",
       "9999        12800          10.91       418.52  11574.83  \n",
       "\n",
       "[10000 rows x 8 columns]"
      ]
     },
     "execution_count": 50,
     "metadata": {},
     "output_type": "execute_result"
    }
   ],
   "source": [
    "prediction_features"
   ]
  },
  {
   "cell_type": "code",
   "execution_count": 51,
   "metadata": {},
   "outputs": [
    {
     "data": {
      "text/plain": [
       "36.23153803442531"
      ]
     },
     "execution_count": 51,
     "metadata": {},
     "output_type": "execute_result"
    }
   ],
   "source": [
    "652.53/18.01"
   ]
  },
  {
   "cell_type": "code",
   "execution_count": 52,
   "metadata": {},
   "outputs": [
    {
     "data": {
      "text/plain": [
       "0.087004"
      ]
     },
     "execution_count": 52,
     "metadata": {},
     "output_type": "execute_result"
    }
   ],
   "source": [
    "652.53/ 7500"
   ]
  },
  {
   "cell_type": "code",
   "execution_count": 53,
   "metadata": {},
   "outputs": [
    {
     "data": {
      "text/html": [
       "<div>\n",
       "<style scoped>\n",
       "    .dataframe tbody tr th:only-of-type {\n",
       "        vertical-align: middle;\n",
       "    }\n",
       "\n",
       "    .dataframe tbody tr th {\n",
       "        vertical-align: top;\n",
       "    }\n",
       "\n",
       "    .dataframe thead th {\n",
       "        text-align: right;\n",
       "    }\n",
       "</style>\n",
       "<table border=\"1\" class=\"dataframe\">\n",
       "  <thead>\n",
       "    <tr style=\"text-align: right;\">\n",
       "      <th></th>\n",
       "      <th>annual_income</th>\n",
       "      <th>debt_to_income</th>\n",
       "      <th>delinq_2y</th>\n",
       "      <th>num_historical_failed_to_pay</th>\n",
       "      <th>loan_amount</th>\n",
       "      <th>interest_rate</th>\n",
       "      <th>installment</th>\n",
       "      <th>balance</th>\n",
       "    </tr>\n",
       "  </thead>\n",
       "  <tbody>\n",
       "    <tr>\n",
       "      <th>154</th>\n",
       "      <td>0.0</td>\n",
       "      <td>NaN</td>\n",
       "      <td>2</td>\n",
       "      <td>0</td>\n",
       "      <td>20000</td>\n",
       "      <td>17.09</td>\n",
       "      <td>498.02</td>\n",
       "      <td>19128.86</td>\n",
       "    </tr>\n",
       "    <tr>\n",
       "      <th>927</th>\n",
       "      <td>0.0</td>\n",
       "      <td>NaN</td>\n",
       "      <td>0</td>\n",
       "      <td>0</td>\n",
       "      <td>5200</td>\n",
       "      <td>10.41</td>\n",
       "      <td>168.80</td>\n",
       "      <td>4825.70</td>\n",
       "    </tr>\n",
       "    <tr>\n",
       "      <th>1255</th>\n",
       "      <td>0.0</td>\n",
       "      <td>NaN</td>\n",
       "      <td>1</td>\n",
       "      <td>0</td>\n",
       "      <td>24000</td>\n",
       "      <td>17.47</td>\n",
       "      <td>602.55</td>\n",
       "      <td>23229.44</td>\n",
       "    </tr>\n",
       "    <tr>\n",
       "      <th>1330</th>\n",
       "      <td>0.0</td>\n",
       "      <td>NaN</td>\n",
       "      <td>0</td>\n",
       "      <td>0</td>\n",
       "      <td>15000</td>\n",
       "      <td>7.35</td>\n",
       "      <td>465.57</td>\n",
       "      <td>13872.03</td>\n",
       "    </tr>\n",
       "    <tr>\n",
       "      <th>1653</th>\n",
       "      <td>0.0</td>\n",
       "      <td>NaN</td>\n",
       "      <td>1</td>\n",
       "      <td>0</td>\n",
       "      <td>30400</td>\n",
       "      <td>20.39</td>\n",
       "      <td>1135.83</td>\n",
       "      <td>28510.40</td>\n",
       "    </tr>\n",
       "    <tr>\n",
       "      <th>1718</th>\n",
       "      <td>0.0</td>\n",
       "      <td>NaN</td>\n",
       "      <td>0</td>\n",
       "      <td>0</td>\n",
       "      <td>27800</td>\n",
       "      <td>9.43</td>\n",
       "      <td>889.61</td>\n",
       "      <td>25764.48</td>\n",
       "    </tr>\n",
       "    <tr>\n",
       "      <th>1845</th>\n",
       "      <td>0.0</td>\n",
       "      <td>NaN</td>\n",
       "      <td>0</td>\n",
       "      <td>0</td>\n",
       "      <td>32000</td>\n",
       "      <td>20.39</td>\n",
       "      <td>854.77</td>\n",
       "      <td>31050.95</td>\n",
       "    </tr>\n",
       "    <tr>\n",
       "      <th>2106</th>\n",
       "      <td>1.0</td>\n",
       "      <td>NaN</td>\n",
       "      <td>0</td>\n",
       "      <td>0</td>\n",
       "      <td>10000</td>\n",
       "      <td>7.97</td>\n",
       "      <td>313.23</td>\n",
       "      <td>8749.43</td>\n",
       "    </tr>\n",
       "    <tr>\n",
       "      <th>2546</th>\n",
       "      <td>0.0</td>\n",
       "      <td>NaN</td>\n",
       "      <td>0</td>\n",
       "      <td>0</td>\n",
       "      <td>18000</td>\n",
       "      <td>13.58</td>\n",
       "      <td>611.54</td>\n",
       "      <td>16741.91</td>\n",
       "    </tr>\n",
       "    <tr>\n",
       "      <th>2556</th>\n",
       "      <td>0.0</td>\n",
       "      <td>NaN</td>\n",
       "      <td>0</td>\n",
       "      <td>0</td>\n",
       "      <td>18000</td>\n",
       "      <td>15.05</td>\n",
       "      <td>624.42</td>\n",
       "      <td>16375.07</td>\n",
       "    </tr>\n",
       "    <tr>\n",
       "      <th>3429</th>\n",
       "      <td>0.0</td>\n",
       "      <td>NaN</td>\n",
       "      <td>0</td>\n",
       "      <td>0</td>\n",
       "      <td>11000</td>\n",
       "      <td>28.72</td>\n",
       "      <td>347.29</td>\n",
       "      <td>10743.90</td>\n",
       "    </tr>\n",
       "    <tr>\n",
       "      <th>4123</th>\n",
       "      <td>0.0</td>\n",
       "      <td>NaN</td>\n",
       "      <td>0</td>\n",
       "      <td>0</td>\n",
       "      <td>8000</td>\n",
       "      <td>18.45</td>\n",
       "      <td>291.03</td>\n",
       "      <td>7304.16</td>\n",
       "    </tr>\n",
       "    <tr>\n",
       "      <th>5032</th>\n",
       "      <td>0.0</td>\n",
       "      <td>NaN</td>\n",
       "      <td>0</td>\n",
       "      <td>0</td>\n",
       "      <td>23100</td>\n",
       "      <td>11.98</td>\n",
       "      <td>767.03</td>\n",
       "      <td>22021.81</td>\n",
       "    </tr>\n",
       "    <tr>\n",
       "      <th>5300</th>\n",
       "      <td>0.0</td>\n",
       "      <td>NaN</td>\n",
       "      <td>0</td>\n",
       "      <td>1</td>\n",
       "      <td>10000</td>\n",
       "      <td>10.42</td>\n",
       "      <td>324.65</td>\n",
       "      <td>0.00</td>\n",
       "    </tr>\n",
       "    <tr>\n",
       "      <th>5358</th>\n",
       "      <td>0.0</td>\n",
       "      <td>NaN</td>\n",
       "      <td>0</td>\n",
       "      <td>0</td>\n",
       "      <td>15600</td>\n",
       "      <td>12.61</td>\n",
       "      <td>351.85</td>\n",
       "      <td>15030.29</td>\n",
       "    </tr>\n",
       "    <tr>\n",
       "      <th>5388</th>\n",
       "      <td>0.0</td>\n",
       "      <td>NaN</td>\n",
       "      <td>0</td>\n",
       "      <td>1</td>\n",
       "      <td>14925</td>\n",
       "      <td>24.85</td>\n",
       "      <td>436.76</td>\n",
       "      <td>14398.16</td>\n",
       "    </tr>\n",
       "    <tr>\n",
       "      <th>5432</th>\n",
       "      <td>0.0</td>\n",
       "      <td>NaN</td>\n",
       "      <td>0</td>\n",
       "      <td>0</td>\n",
       "      <td>8000</td>\n",
       "      <td>10.90</td>\n",
       "      <td>261.54</td>\n",
       "      <td>7428.22</td>\n",
       "    </tr>\n",
       "    <tr>\n",
       "      <th>6059</th>\n",
       "      <td>0.0</td>\n",
       "      <td>NaN</td>\n",
       "      <td>1</td>\n",
       "      <td>0</td>\n",
       "      <td>4500</td>\n",
       "      <td>18.45</td>\n",
       "      <td>163.71</td>\n",
       "      <td>0.00</td>\n",
       "    </tr>\n",
       "    <tr>\n",
       "      <th>7010</th>\n",
       "      <td>0.0</td>\n",
       "      <td>NaN</td>\n",
       "      <td>0</td>\n",
       "      <td>0</td>\n",
       "      <td>40000</td>\n",
       "      <td>7.96</td>\n",
       "      <td>1252.72</td>\n",
       "      <td>37018.15</td>\n",
       "    </tr>\n",
       "    <tr>\n",
       "      <th>7149</th>\n",
       "      <td>0.0</td>\n",
       "      <td>NaN</td>\n",
       "      <td>0</td>\n",
       "      <td>0</td>\n",
       "      <td>5000</td>\n",
       "      <td>15.04</td>\n",
       "      <td>173.43</td>\n",
       "      <td>4663.53</td>\n",
       "    </tr>\n",
       "    <tr>\n",
       "      <th>7155</th>\n",
       "      <td>0.0</td>\n",
       "      <td>NaN</td>\n",
       "      <td>0</td>\n",
       "      <td>0</td>\n",
       "      <td>30000</td>\n",
       "      <td>18.45</td>\n",
       "      <td>769.17</td>\n",
       "      <td>29061.96</td>\n",
       "    </tr>\n",
       "    <tr>\n",
       "      <th>8678</th>\n",
       "      <td>0.0</td>\n",
       "      <td>NaN</td>\n",
       "      <td>0</td>\n",
       "      <td>0</td>\n",
       "      <td>35000</td>\n",
       "      <td>6.08</td>\n",
       "      <td>1066.04</td>\n",
       "      <td>30511.21</td>\n",
       "    </tr>\n",
       "    <tr>\n",
       "      <th>9011</th>\n",
       "      <td>0.0</td>\n",
       "      <td>NaN</td>\n",
       "      <td>0</td>\n",
       "      <td>0</td>\n",
       "      <td>25000</td>\n",
       "      <td>6.72</td>\n",
       "      <td>768.74</td>\n",
       "      <td>22463.84</td>\n",
       "    </tr>\n",
       "    <tr>\n",
       "      <th>9273</th>\n",
       "      <td>0.0</td>\n",
       "      <td>NaN</td>\n",
       "      <td>0</td>\n",
       "      <td>0</td>\n",
       "      <td>6000</td>\n",
       "      <td>19.03</td>\n",
       "      <td>220.03</td>\n",
       "      <td>5488.47</td>\n",
       "    </tr>\n",
       "  </tbody>\n",
       "</table>\n",
       "</div>"
      ],
      "text/plain": [
       "      annual_income  debt_to_income  delinq_2y  num_historical_failed_to_pay  \\\n",
       "154             0.0             NaN          2                             0   \n",
       "927             0.0             NaN          0                             0   \n",
       "1255            0.0             NaN          1                             0   \n",
       "1330            0.0             NaN          0                             0   \n",
       "1653            0.0             NaN          1                             0   \n",
       "1718            0.0             NaN          0                             0   \n",
       "1845            0.0             NaN          0                             0   \n",
       "2106            1.0             NaN          0                             0   \n",
       "2546            0.0             NaN          0                             0   \n",
       "2556            0.0             NaN          0                             0   \n",
       "3429            0.0             NaN          0                             0   \n",
       "4123            0.0             NaN          0                             0   \n",
       "5032            0.0             NaN          0                             0   \n",
       "5300            0.0             NaN          0                             1   \n",
       "5358            0.0             NaN          0                             0   \n",
       "5388            0.0             NaN          0                             1   \n",
       "5432            0.0             NaN          0                             0   \n",
       "6059            0.0             NaN          1                             0   \n",
       "7010            0.0             NaN          0                             0   \n",
       "7149            0.0             NaN          0                             0   \n",
       "7155            0.0             NaN          0                             0   \n",
       "8678            0.0             NaN          0                             0   \n",
       "9011            0.0             NaN          0                             0   \n",
       "9273            0.0             NaN          0                             0   \n",
       "\n",
       "      loan_amount  interest_rate  installment   balance  \n",
       "154         20000          17.09       498.02  19128.86  \n",
       "927          5200          10.41       168.80   4825.70  \n",
       "1255        24000          17.47       602.55  23229.44  \n",
       "1330        15000           7.35       465.57  13872.03  \n",
       "1653        30400          20.39      1135.83  28510.40  \n",
       "1718        27800           9.43       889.61  25764.48  \n",
       "1845        32000          20.39       854.77  31050.95  \n",
       "2106        10000           7.97       313.23   8749.43  \n",
       "2546        18000          13.58       611.54  16741.91  \n",
       "2556        18000          15.05       624.42  16375.07  \n",
       "3429        11000          28.72       347.29  10743.90  \n",
       "4123         8000          18.45       291.03   7304.16  \n",
       "5032        23100          11.98       767.03  22021.81  \n",
       "5300        10000          10.42       324.65      0.00  \n",
       "5358        15600          12.61       351.85  15030.29  \n",
       "5388        14925          24.85       436.76  14398.16  \n",
       "5432         8000          10.90       261.54   7428.22  \n",
       "6059         4500          18.45       163.71      0.00  \n",
       "7010        40000           7.96      1252.72  37018.15  \n",
       "7149         5000          15.04       173.43   4663.53  \n",
       "7155        30000          18.45       769.17  29061.96  \n",
       "8678        35000           6.08      1066.04  30511.21  \n",
       "9011        25000           6.72       768.74  22463.84  \n",
       "9273         6000          19.03       220.03   5488.47  "
      ]
     },
     "execution_count": 53,
     "metadata": {},
     "output_type": "execute_result"
    }
   ],
   "source": [
    "prediction_features[prediction_features['debt_to_income'].isnull()]\n"
   ]
  },
  {
   "cell_type": "code",
   "execution_count": 54,
   "metadata": {},
   "outputs": [
    {
     "data": {
      "text/html": [
       "<div>\n",
       "<style scoped>\n",
       "    .dataframe tbody tr th:only-of-type {\n",
       "        vertical-align: middle;\n",
       "    }\n",
       "\n",
       "    .dataframe tbody tr th {\n",
       "        vertical-align: top;\n",
       "    }\n",
       "\n",
       "    .dataframe thead th {\n",
       "        text-align: right;\n",
       "    }\n",
       "</style>\n",
       "<table border=\"1\" class=\"dataframe\">\n",
       "  <thead>\n",
       "    <tr style=\"text-align: right;\">\n",
       "      <th></th>\n",
       "      <th>annual_income</th>\n",
       "      <th>debt_to_income</th>\n",
       "      <th>delinq_2y</th>\n",
       "      <th>num_historical_failed_to_pay</th>\n",
       "      <th>loan_amount</th>\n",
       "      <th>interest_rate</th>\n",
       "      <th>installment</th>\n",
       "      <th>balance</th>\n",
       "    </tr>\n",
       "  </thead>\n",
       "  <tbody>\n",
       "    <tr>\n",
       "      <th>154</th>\n",
       "      <td>0.0</td>\n",
       "      <td>NaN</td>\n",
       "      <td>2</td>\n",
       "      <td>0</td>\n",
       "      <td>20000</td>\n",
       "      <td>17.09</td>\n",
       "      <td>498.02</td>\n",
       "      <td>19128.86</td>\n",
       "    </tr>\n",
       "    <tr>\n",
       "      <th>927</th>\n",
       "      <td>0.0</td>\n",
       "      <td>NaN</td>\n",
       "      <td>0</td>\n",
       "      <td>0</td>\n",
       "      <td>5200</td>\n",
       "      <td>10.41</td>\n",
       "      <td>168.80</td>\n",
       "      <td>4825.70</td>\n",
       "    </tr>\n",
       "    <tr>\n",
       "      <th>1255</th>\n",
       "      <td>0.0</td>\n",
       "      <td>NaN</td>\n",
       "      <td>1</td>\n",
       "      <td>0</td>\n",
       "      <td>24000</td>\n",
       "      <td>17.47</td>\n",
       "      <td>602.55</td>\n",
       "      <td>23229.44</td>\n",
       "    </tr>\n",
       "    <tr>\n",
       "      <th>1330</th>\n",
       "      <td>0.0</td>\n",
       "      <td>NaN</td>\n",
       "      <td>0</td>\n",
       "      <td>0</td>\n",
       "      <td>15000</td>\n",
       "      <td>7.35</td>\n",
       "      <td>465.57</td>\n",
       "      <td>13872.03</td>\n",
       "    </tr>\n",
       "    <tr>\n",
       "      <th>1653</th>\n",
       "      <td>0.0</td>\n",
       "      <td>NaN</td>\n",
       "      <td>1</td>\n",
       "      <td>0</td>\n",
       "      <td>30400</td>\n",
       "      <td>20.39</td>\n",
       "      <td>1135.83</td>\n",
       "      <td>28510.40</td>\n",
       "    </tr>\n",
       "    <tr>\n",
       "      <th>1718</th>\n",
       "      <td>0.0</td>\n",
       "      <td>NaN</td>\n",
       "      <td>0</td>\n",
       "      <td>0</td>\n",
       "      <td>27800</td>\n",
       "      <td>9.43</td>\n",
       "      <td>889.61</td>\n",
       "      <td>25764.48</td>\n",
       "    </tr>\n",
       "    <tr>\n",
       "      <th>1845</th>\n",
       "      <td>0.0</td>\n",
       "      <td>NaN</td>\n",
       "      <td>0</td>\n",
       "      <td>0</td>\n",
       "      <td>32000</td>\n",
       "      <td>20.39</td>\n",
       "      <td>854.77</td>\n",
       "      <td>31050.95</td>\n",
       "    </tr>\n",
       "    <tr>\n",
       "      <th>2546</th>\n",
       "      <td>0.0</td>\n",
       "      <td>NaN</td>\n",
       "      <td>0</td>\n",
       "      <td>0</td>\n",
       "      <td>18000</td>\n",
       "      <td>13.58</td>\n",
       "      <td>611.54</td>\n",
       "      <td>16741.91</td>\n",
       "    </tr>\n",
       "    <tr>\n",
       "      <th>2556</th>\n",
       "      <td>0.0</td>\n",
       "      <td>NaN</td>\n",
       "      <td>0</td>\n",
       "      <td>0</td>\n",
       "      <td>18000</td>\n",
       "      <td>15.05</td>\n",
       "      <td>624.42</td>\n",
       "      <td>16375.07</td>\n",
       "    </tr>\n",
       "    <tr>\n",
       "      <th>3429</th>\n",
       "      <td>0.0</td>\n",
       "      <td>NaN</td>\n",
       "      <td>0</td>\n",
       "      <td>0</td>\n",
       "      <td>11000</td>\n",
       "      <td>28.72</td>\n",
       "      <td>347.29</td>\n",
       "      <td>10743.90</td>\n",
       "    </tr>\n",
       "    <tr>\n",
       "      <th>4123</th>\n",
       "      <td>0.0</td>\n",
       "      <td>NaN</td>\n",
       "      <td>0</td>\n",
       "      <td>0</td>\n",
       "      <td>8000</td>\n",
       "      <td>18.45</td>\n",
       "      <td>291.03</td>\n",
       "      <td>7304.16</td>\n",
       "    </tr>\n",
       "    <tr>\n",
       "      <th>5032</th>\n",
       "      <td>0.0</td>\n",
       "      <td>NaN</td>\n",
       "      <td>0</td>\n",
       "      <td>0</td>\n",
       "      <td>23100</td>\n",
       "      <td>11.98</td>\n",
       "      <td>767.03</td>\n",
       "      <td>22021.81</td>\n",
       "    </tr>\n",
       "    <tr>\n",
       "      <th>5300</th>\n",
       "      <td>0.0</td>\n",
       "      <td>NaN</td>\n",
       "      <td>0</td>\n",
       "      <td>1</td>\n",
       "      <td>10000</td>\n",
       "      <td>10.42</td>\n",
       "      <td>324.65</td>\n",
       "      <td>0.00</td>\n",
       "    </tr>\n",
       "    <tr>\n",
       "      <th>5358</th>\n",
       "      <td>0.0</td>\n",
       "      <td>NaN</td>\n",
       "      <td>0</td>\n",
       "      <td>0</td>\n",
       "      <td>15600</td>\n",
       "      <td>12.61</td>\n",
       "      <td>351.85</td>\n",
       "      <td>15030.29</td>\n",
       "    </tr>\n",
       "    <tr>\n",
       "      <th>5388</th>\n",
       "      <td>0.0</td>\n",
       "      <td>NaN</td>\n",
       "      <td>0</td>\n",
       "      <td>1</td>\n",
       "      <td>14925</td>\n",
       "      <td>24.85</td>\n",
       "      <td>436.76</td>\n",
       "      <td>14398.16</td>\n",
       "    </tr>\n",
       "    <tr>\n",
       "      <th>5432</th>\n",
       "      <td>0.0</td>\n",
       "      <td>NaN</td>\n",
       "      <td>0</td>\n",
       "      <td>0</td>\n",
       "      <td>8000</td>\n",
       "      <td>10.90</td>\n",
       "      <td>261.54</td>\n",
       "      <td>7428.22</td>\n",
       "    </tr>\n",
       "    <tr>\n",
       "      <th>6059</th>\n",
       "      <td>0.0</td>\n",
       "      <td>NaN</td>\n",
       "      <td>1</td>\n",
       "      <td>0</td>\n",
       "      <td>4500</td>\n",
       "      <td>18.45</td>\n",
       "      <td>163.71</td>\n",
       "      <td>0.00</td>\n",
       "    </tr>\n",
       "    <tr>\n",
       "      <th>7010</th>\n",
       "      <td>0.0</td>\n",
       "      <td>NaN</td>\n",
       "      <td>0</td>\n",
       "      <td>0</td>\n",
       "      <td>40000</td>\n",
       "      <td>7.96</td>\n",
       "      <td>1252.72</td>\n",
       "      <td>37018.15</td>\n",
       "    </tr>\n",
       "    <tr>\n",
       "      <th>7149</th>\n",
       "      <td>0.0</td>\n",
       "      <td>NaN</td>\n",
       "      <td>0</td>\n",
       "      <td>0</td>\n",
       "      <td>5000</td>\n",
       "      <td>15.04</td>\n",
       "      <td>173.43</td>\n",
       "      <td>4663.53</td>\n",
       "    </tr>\n",
       "    <tr>\n",
       "      <th>7155</th>\n",
       "      <td>0.0</td>\n",
       "      <td>NaN</td>\n",
       "      <td>0</td>\n",
       "      <td>0</td>\n",
       "      <td>30000</td>\n",
       "      <td>18.45</td>\n",
       "      <td>769.17</td>\n",
       "      <td>29061.96</td>\n",
       "    </tr>\n",
       "    <tr>\n",
       "      <th>8678</th>\n",
       "      <td>0.0</td>\n",
       "      <td>NaN</td>\n",
       "      <td>0</td>\n",
       "      <td>0</td>\n",
       "      <td>35000</td>\n",
       "      <td>6.08</td>\n",
       "      <td>1066.04</td>\n",
       "      <td>30511.21</td>\n",
       "    </tr>\n",
       "    <tr>\n",
       "      <th>9011</th>\n",
       "      <td>0.0</td>\n",
       "      <td>NaN</td>\n",
       "      <td>0</td>\n",
       "      <td>0</td>\n",
       "      <td>25000</td>\n",
       "      <td>6.72</td>\n",
       "      <td>768.74</td>\n",
       "      <td>22463.84</td>\n",
       "    </tr>\n",
       "    <tr>\n",
       "      <th>9273</th>\n",
       "      <td>0.0</td>\n",
       "      <td>NaN</td>\n",
       "      <td>0</td>\n",
       "      <td>0</td>\n",
       "      <td>6000</td>\n",
       "      <td>19.03</td>\n",
       "      <td>220.03</td>\n",
       "      <td>5488.47</td>\n",
       "    </tr>\n",
       "  </tbody>\n",
       "</table>\n",
       "</div>"
      ],
      "text/plain": [
       "      annual_income  debt_to_income  delinq_2y  num_historical_failed_to_pay  \\\n",
       "154             0.0             NaN          2                             0   \n",
       "927             0.0             NaN          0                             0   \n",
       "1255            0.0             NaN          1                             0   \n",
       "1330            0.0             NaN          0                             0   \n",
       "1653            0.0             NaN          1                             0   \n",
       "1718            0.0             NaN          0                             0   \n",
       "1845            0.0             NaN          0                             0   \n",
       "2546            0.0             NaN          0                             0   \n",
       "2556            0.0             NaN          0                             0   \n",
       "3429            0.0             NaN          0                             0   \n",
       "4123            0.0             NaN          0                             0   \n",
       "5032            0.0             NaN          0                             0   \n",
       "5300            0.0             NaN          0                             1   \n",
       "5358            0.0             NaN          0                             0   \n",
       "5388            0.0             NaN          0                             1   \n",
       "5432            0.0             NaN          0                             0   \n",
       "6059            0.0             NaN          1                             0   \n",
       "7010            0.0             NaN          0                             0   \n",
       "7149            0.0             NaN          0                             0   \n",
       "7155            0.0             NaN          0                             0   \n",
       "8678            0.0             NaN          0                             0   \n",
       "9011            0.0             NaN          0                             0   \n",
       "9273            0.0             NaN          0                             0   \n",
       "\n",
       "      loan_amount  interest_rate  installment   balance  \n",
       "154         20000          17.09       498.02  19128.86  \n",
       "927          5200          10.41       168.80   4825.70  \n",
       "1255        24000          17.47       602.55  23229.44  \n",
       "1330        15000           7.35       465.57  13872.03  \n",
       "1653        30400          20.39      1135.83  28510.40  \n",
       "1718        27800           9.43       889.61  25764.48  \n",
       "1845        32000          20.39       854.77  31050.95  \n",
       "2546        18000          13.58       611.54  16741.91  \n",
       "2556        18000          15.05       624.42  16375.07  \n",
       "3429        11000          28.72       347.29  10743.90  \n",
       "4123         8000          18.45       291.03   7304.16  \n",
       "5032        23100          11.98       767.03  22021.81  \n",
       "5300        10000          10.42       324.65      0.00  \n",
       "5358        15600          12.61       351.85  15030.29  \n",
       "5388        14925          24.85       436.76  14398.16  \n",
       "5432         8000          10.90       261.54   7428.22  \n",
       "6059         4500          18.45       163.71      0.00  \n",
       "7010        40000           7.96      1252.72  37018.15  \n",
       "7149         5000          15.04       173.43   4663.53  \n",
       "7155        30000          18.45       769.17  29061.96  \n",
       "8678        35000           6.08      1066.04  30511.21  \n",
       "9011        25000           6.72       768.74  22463.84  \n",
       "9273         6000          19.03       220.03   5488.47  "
      ]
     },
     "execution_count": 54,
     "metadata": {},
     "output_type": "execute_result"
    }
   ],
   "source": [
    "prediction_features[prediction_features.annual_income == 0]\n"
   ]
  },
  {
   "attachments": {},
   "cell_type": "markdown",
   "metadata": {},
   "source": [
    "There are 24 rows missing the debt_to_income input, so I will drop these rows"
   ]
  },
  {
   "cell_type": "code",
   "execution_count": 55,
   "metadata": {},
   "outputs": [],
   "source": [
    "prediction_features.dropna(inplace=True)"
   ]
  },
  {
   "cell_type": "code",
   "execution_count": 56,
   "metadata": {},
   "outputs": [
    {
     "data": {
      "text/plain": [
       "(9976, 8)"
      ]
     },
     "execution_count": 56,
     "metadata": {},
     "output_type": "execute_result"
    }
   ],
   "source": [
    "prediction_features.shape"
   ]
  },
  {
   "attachments": {},
   "cell_type": "markdown",
   "metadata": {},
   "source": [
    "Now we have 9976 observations and 8 features "
   ]
  },
  {
   "attachments": {},
   "cell_type": "markdown",
   "metadata": {},
   "source": [
    "#### Find a model to predict interest rate"
   ]
  },
  {
   "cell_type": "code",
   "execution_count": 57,
   "metadata": {},
   "outputs": [
    {
     "data": {
      "text/html": [
       "<div>\n",
       "<style scoped>\n",
       "    .dataframe tbody tr th:only-of-type {\n",
       "        vertical-align: middle;\n",
       "    }\n",
       "\n",
       "    .dataframe tbody tr th {\n",
       "        vertical-align: top;\n",
       "    }\n",
       "\n",
       "    .dataframe thead th {\n",
       "        text-align: right;\n",
       "    }\n",
       "</style>\n",
       "<table border=\"1\" class=\"dataframe\">\n",
       "  <thead>\n",
       "    <tr style=\"text-align: right;\">\n",
       "      <th></th>\n",
       "      <th>annual_income</th>\n",
       "      <th>debt_to_income</th>\n",
       "      <th>delinq_2y</th>\n",
       "      <th>num_historical_failed_to_pay</th>\n",
       "      <th>loan_amount</th>\n",
       "      <th>installment</th>\n",
       "      <th>balance</th>\n",
       "    </tr>\n",
       "  </thead>\n",
       "  <tbody>\n",
       "    <tr>\n",
       "      <th>0</th>\n",
       "      <td>90000.0</td>\n",
       "      <td>18.01</td>\n",
       "      <td>0</td>\n",
       "      <td>0</td>\n",
       "      <td>28000</td>\n",
       "      <td>652.53</td>\n",
       "      <td>27015.86</td>\n",
       "    </tr>\n",
       "    <tr>\n",
       "      <th>1</th>\n",
       "      <td>40000.0</td>\n",
       "      <td>5.04</td>\n",
       "      <td>0</td>\n",
       "      <td>1</td>\n",
       "      <td>5000</td>\n",
       "      <td>167.54</td>\n",
       "      <td>4651.37</td>\n",
       "    </tr>\n",
       "    <tr>\n",
       "      <th>2</th>\n",
       "      <td>40000.0</td>\n",
       "      <td>21.15</td>\n",
       "      <td>0</td>\n",
       "      <td>0</td>\n",
       "      <td>2000</td>\n",
       "      <td>71.40</td>\n",
       "      <td>1824.63</td>\n",
       "    </tr>\n",
       "    <tr>\n",
       "      <th>3</th>\n",
       "      <td>30000.0</td>\n",
       "      <td>10.16</td>\n",
       "      <td>0</td>\n",
       "      <td>1</td>\n",
       "      <td>21600</td>\n",
       "      <td>664.19</td>\n",
       "      <td>18853.26</td>\n",
       "    </tr>\n",
       "    <tr>\n",
       "      <th>4</th>\n",
       "      <td>35000.0</td>\n",
       "      <td>57.96</td>\n",
       "      <td>0</td>\n",
       "      <td>0</td>\n",
       "      <td>23000</td>\n",
       "      <td>786.87</td>\n",
       "      <td>21430.15</td>\n",
       "    </tr>\n",
       "    <tr>\n",
       "      <th>...</th>\n",
       "      <td>...</td>\n",
       "      <td>...</td>\n",
       "      <td>...</td>\n",
       "      <td>...</td>\n",
       "      <td>...</td>\n",
       "      <td>...</td>\n",
       "      <td>...</td>\n",
       "    </tr>\n",
       "    <tr>\n",
       "      <th>9995</th>\n",
       "      <td>108000.0</td>\n",
       "      <td>22.28</td>\n",
       "      <td>0</td>\n",
       "      <td>1</td>\n",
       "      <td>24000</td>\n",
       "      <td>744.90</td>\n",
       "      <td>21586.34</td>\n",
       "    </tr>\n",
       "    <tr>\n",
       "      <th>9996</th>\n",
       "      <td>121000.0</td>\n",
       "      <td>32.38</td>\n",
       "      <td>4</td>\n",
       "      <td>0</td>\n",
       "      <td>10000</td>\n",
       "      <td>366.72</td>\n",
       "      <td>9147.44</td>\n",
       "    </tr>\n",
       "    <tr>\n",
       "      <th>9997</th>\n",
       "      <td>67000.0</td>\n",
       "      <td>45.26</td>\n",
       "      <td>2</td>\n",
       "      <td>0</td>\n",
       "      <td>30000</td>\n",
       "      <td>1175.10</td>\n",
       "      <td>27617.65</td>\n",
       "    </tr>\n",
       "    <tr>\n",
       "      <th>9998</th>\n",
       "      <td>80000.0</td>\n",
       "      <td>11.99</td>\n",
       "      <td>0</td>\n",
       "      <td>0</td>\n",
       "      <td>24000</td>\n",
       "      <td>722.76</td>\n",
       "      <td>21518.12</td>\n",
       "    </tr>\n",
       "    <tr>\n",
       "      <th>9999</th>\n",
       "      <td>66000.0</td>\n",
       "      <td>20.82</td>\n",
       "      <td>0</td>\n",
       "      <td>0</td>\n",
       "      <td>12800</td>\n",
       "      <td>418.52</td>\n",
       "      <td>11574.83</td>\n",
       "    </tr>\n",
       "  </tbody>\n",
       "</table>\n",
       "<p>9976 rows × 7 columns</p>\n",
       "</div>"
      ],
      "text/plain": [
       "      annual_income  debt_to_income  delinq_2y  num_historical_failed_to_pay  \\\n",
       "0           90000.0           18.01          0                             0   \n",
       "1           40000.0            5.04          0                             1   \n",
       "2           40000.0           21.15          0                             0   \n",
       "3           30000.0           10.16          0                             1   \n",
       "4           35000.0           57.96          0                             0   \n",
       "...             ...             ...        ...                           ...   \n",
       "9995       108000.0           22.28          0                             1   \n",
       "9996       121000.0           32.38          4                             0   \n",
       "9997        67000.0           45.26          2                             0   \n",
       "9998        80000.0           11.99          0                             0   \n",
       "9999        66000.0           20.82          0                             0   \n",
       "\n",
       "      loan_amount  installment   balance  \n",
       "0           28000       652.53  27015.86  \n",
       "1            5000       167.54   4651.37  \n",
       "2            2000        71.40   1824.63  \n",
       "3           21600       664.19  18853.26  \n",
       "4           23000       786.87  21430.15  \n",
       "...           ...          ...       ...  \n",
       "9995        24000       744.90  21586.34  \n",
       "9996        10000       366.72   9147.44  \n",
       "9997        30000      1175.10  27617.65  \n",
       "9998        24000       722.76  21518.12  \n",
       "9999        12800       418.52  11574.83  \n",
       "\n",
       "[9976 rows x 7 columns]"
      ]
     },
     "execution_count": 57,
     "metadata": {},
     "output_type": "execute_result"
    }
   ],
   "source": [
    "x_train = prediction_features.drop('interest_rate',axis=1)\n",
    "x_train"
   ]
  },
  {
   "attachments": {},
   "cell_type": "markdown",
   "metadata": {},
   "source": [
    "Split the data needed for predictions in 60% training, 20% cross validation, 20% test"
   ]
  },
  {
   "cell_type": "code",
   "execution_count": 58,
   "metadata": {},
   "outputs": [],
   "source": [
    "# Get 60% of the dataset as the training set. Put the remaining 40% in temporary variables: x_ and y_.\n",
    "x_train, x_, y_train, y_ = train_test_split(prediction_features.drop('interest_rate', axis=1), prediction_features.interest_rate, test_size=0.40, random_state=1)\n",
    "\n",
    "# Split the 40% subset above into two: one half for cross validation and the other for the test set\n",
    "x_cv, x_test, y_cv, y_test = train_test_split(x_, y_, test_size=0.50, random_state=1)"
   ]
  },
  {
   "cell_type": "code",
   "execution_count": 59,
   "metadata": {},
   "outputs": [
    {
     "name": "stdout",
     "output_type": "stream",
     "text": [
      "the shape of the training set (input) is: (5985, 7)\n",
      "the shape of the training set (target) is: (5985,)\n",
      "\n",
      "the shape of the cross validation set (input) is: (1995, 7)\n",
      "the shape of the cross validation set (target) is: (1995,)\n",
      "\n",
      "the shape of the test set (input) is: (1996, 7)\n",
      "the shape of the test set (target) is: (1996,)\n"
     ]
    }
   ],
   "source": [
    "del x_, y_\n",
    "print(f\"the shape of the training set (input) is: {x_train.shape}\")\n",
    "print(f\"the shape of the training set (target) is: {y_train.shape}\\n\")\n",
    "print(f\"the shape of the cross validation set (input) is: {x_cv.shape}\")\n",
    "print(f\"the shape of the cross validation set (target) is: {y_cv.shape}\\n\")\n",
    "print(f\"the shape of the test set (input) is: {x_test.shape}\")\n",
    "print(f\"the shape of the test set (target) is: {y_test.shape}\")"
   ]
  },
  {
   "cell_type": "code",
   "execution_count": 60,
   "metadata": {},
   "outputs": [],
   "source": [
    "np.set_printoptions(precision=2)  # reduced display precision on numpy arrays"
   ]
  },
  {
   "attachments": {},
   "cell_type": "markdown",
   "metadata": {},
   "source": [
    "Normalize the training data"
   ]
  },
  {
   "cell_type": "code",
   "execution_count": 61,
   "metadata": {},
   "outputs": [
    {
     "name": "stdout",
     "output_type": "stream",
     "text": [
      "Peak to Peak range by column in Raw        X:annual_income                   2297000.00\n",
      "debt_to_income                      469.09\n",
      "delinq_2y                            13.00\n",
      "num_historical_failed_to_pay          7.00\n",
      "loan_amount                       39000.00\n",
      "installment                        1535.84\n",
      "balance                           40000.00\n",
      "dtype: float64\n",
      "Peak to Peak range by column in Normalized X:[33.71 30.32 18.98 15.87  3.79  5.21  4.02]\n"
     ]
    }
   ],
   "source": [
    "scaler = StandardScaler()\n",
    "x_norm = scaler.fit_transform(x_train)\n",
    "print(f\"Peak to Peak range by column in Raw        X:{np.ptp(x_train,axis=0)}\")   \n",
    "print(f\"Peak to Peak range by column in Normalized X:{np.ptp(x_norm,axis=0)}\")"
   ]
  },
  {
   "attachments": {},
   "cell_type": "markdown",
   "metadata": {},
   "source": [
    "Create Regression Model"
   ]
  },
  {
   "cell_type": "code",
   "execution_count": 62,
   "metadata": {},
   "outputs": [
    {
     "name": "stdout",
     "output_type": "stream",
     "text": [
      "SGDRegressor()\n",
      "number of iterations completed: 12, number of weight updates: 71821.0\n"
     ]
    }
   ],
   "source": [
    "sgdr = SGDRegressor(max_iter=1000)\n",
    "sgdr.fit(x_norm, y_train)\n",
    "print(sgdr)\n",
    "print(f\"number of iterations completed: {sgdr.n_iter_}, number of weight updates: {sgdr.t_}\")"
   ]
  },
  {
   "cell_type": "code",
   "execution_count": 63,
   "metadata": {},
   "outputs": [
    {
     "name": "stdout",
     "output_type": "stream",
     "text": [
      "model parameters:                   w: [-0.75  0.32  0.51  0.27 -1.01  1.48  0.18], b:[12.46]\n"
     ]
    }
   ],
   "source": [
    "b_norm = sgdr.intercept_\n",
    "w_norm = sgdr.coef_\n",
    "print(f\"model parameters:                   w: {w_norm}, b:{b_norm}\")"
   ]
  },
  {
   "cell_type": "code",
   "execution_count": 64,
   "metadata": {},
   "outputs": [
    {
     "name": "stdout",
     "output_type": "stream",
     "text": [
      "prediction using np.dot() and sgdr.predict match: True\n",
      "Prediction on training set:\n",
      "[11.53 13.15 11.6  14.43]\n",
      "Target values \n",
      "1004     5.31\n",
      "8987     6.07\n",
      "2862     6.72\n",
      "2371    18.06\n",
      "Name: interest_rate, dtype: float64\n"
     ]
    },
    {
     "name": "stderr",
     "output_type": "stream",
     "text": [
      "C:\\Users\\evi_9\\AppData\\Local\\Temp\\ipykernel_26556\\135825059.py:8: FutureWarning: The behavior of `series[i:j]` with an integer-dtype index is deprecated. In a future version, this will be treated as *label-based* indexing, consistent with e.g. `series[i]` lookups. To retain the old behavior, use `series.iloc[i:j]`. To get the future behavior, use `series.loc[i:j]`.\n",
      "  print(f\"Target values \\n{y_train[:4]}\")\n"
     ]
    }
   ],
   "source": [
    "# make a prediction using sgdr.predict()\n",
    "y_pred_sgd = sgdr.predict(x_norm)\n",
    "# make a prediction using w,b. \n",
    "y_pred = np.dot(x_norm, w_norm) + b_norm  \n",
    "print(f\"prediction using np.dot() and sgdr.predict match: {(y_pred == y_pred_sgd).all()}\")\n",
    "\n",
    "print(f\"Prediction on training set:\\n{y_pred[:4]}\" )\n",
    "print(f\"Target values \\n{y_train[:4]}\")"
   ]
  },
  {
   "cell_type": "code",
   "execution_count": 65,
   "metadata": {},
   "outputs": [
    {
     "data": {
      "text/plain": [
       "Index(['annual_income', 'debt_to_income', 'delinq_2y',\n",
       "       'num_historical_failed_to_pay', 'loan_amount', 'interest_rate',\n",
       "       'installment', 'balance'],\n",
       "      dtype='object')"
      ]
     },
     "execution_count": 65,
     "metadata": {},
     "output_type": "execute_result"
    }
   ],
   "source": [
    "x_features = prediction_features.columns\n",
    "x_features"
   ]
  },
  {
   "cell_type": "code",
   "execution_count": 67,
   "metadata": {},
   "outputs": [
    {
     "name": "stderr",
     "output_type": "stream",
     "text": [
      "C:\\Users\\evi_9\\AppData\\Local\\Temp\\ipykernel_26556\\451965641.py:4: FutureWarning: The behavior of `series[i:j]` with an integer-dtype index is deprecated. In a future version, this will be treated as *label-based* indexing, consistent with e.g. `series[i]` lookups. To retain the old behavior, use `series.iloc[i:j]`. To get the future behavior, use `series.loc[i:j]`.\n",
      "  ax[i].scatter(x_norm[:100,i], y_train[:100], label = 'target',)\n"
     ]
    },
    {
     "data": {
      "image/png": "[encoded data removed]",
      "text/plain": [
       "<Figure size 1440x216 with 7 Axes>"
      ]
     },
     "metadata": {
      "needs_background": "light"
     },
     "output_type": "display_data"
    }
   ],
   "source": [
    "# plot predictions and targets vs original features    \n",
    "fig,ax=plt.subplots(1,7,figsize=(20,3),sharey=True)\n",
    "for i in range(len(ax)):\n",
    "    ax[i].scatter(x_norm[:100,i], y_train[:100], label = 'target',)\n",
    "    ax[i].set_xlabel(x_features[i])\n",
    "    ax[i].scatter(x_norm[:100,i],y_pred[:100],color='red', label = 'predict')\n",
    "ax[0].set_ylabel(\"Price\"); ax[0].legend();\n",
    "fig.suptitle(\"target versus prediction using z-score normalized model\")\n",
    "plt.show()"
   ]
  },
  {
   "attachments": {},
   "cell_type": "markdown",
   "metadata": {},
   "source": [
    "This is not a good model to predict the interest rate. If I had more time I would try: \n",
    "- feature engineering and polynomial regression\n",
    "- cross validation tests to see what I can modify to get a better model\n",
    "- getting rid of features that do not help with predicting the target value (interest rate)"
   ]
  }
 ],
 "metadata": {
  "kernelspec": {
   "display_name": "Python 3",
   "language": "python",
   "name": "python3"
  },
  "language_info": {
   "codemirror_mode": {
    "name": "ipython",
    "version": 3
   },
   "file_extension": ".py",
   "mimetype": "text/x-python",
   "name": "python",
   "nbconvert_exporter": "python",
   "pygments_lexer": "ipython3",
   "version": "3.9.13 (tags/v3.9.13:6de2ca5, May 17 2022, 16:36:42) [MSC v.1929 64 bit (AMD64)]"
  },
  "orig_nbformat": 4,
  "vscode": {
   "interpreter": {
    "hash": "14e47d97bb061eda44f90381b7a2e9f127f06fbe27bf360ed28dbac36324de68"
   }
  }
 },
 "nbformat": 4,
 "nbformat_minor": 2
}
